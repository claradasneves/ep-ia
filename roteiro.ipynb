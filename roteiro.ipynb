{
 "cells": [
  {
   "cell_type": "markdown",
   "metadata": {},
   "source": [
    "# Roteiro do vídeo de MLP \n",
    "\n",
    "### Vídeo 1 -MLP ---> anotações da aula dela\n",
    "\n",
    "- Mostrar o código e explicar as principais coisas desse código\n",
    "    - Evitar explicação sobre prática de projeto e padrões de programação\n",
    "- Passar os conceitos de IA embutidos no código\n",
    "- Tempo = mínimo 10 min. e máximo 20 min.\n",
    "- Ilustração da execução dos códigos para:\n",
    "    - Treinamento da MLP\n",
    "    - Estudo dos parâmetros\n",
    "    - Teste da MLP\n",
    "- O que o código vai executar, o que eu vou na tela e pode deixar a rede neural treinando enquanto você está falando\n",
    "- Precisa ver o código executando\n",
    "- Validação cruzada e parada antecipada → pode treinar com os dois, sem os dois ou com um dos dois\n",
    "    - Mostrar executando com cada uma dessas opções\n",
    "- Estudo dos parâmetros → mostrar que fez uma busca por valores adequados\n",
    "    - Usou fixo em 1, 0.5… → porque?\n",
    "    - Testar mais de três valores e ver qual o mais promissor\n",
    "- Que parte do conjunto de dados está sendo testada?\n",
    "    - Três classes de conjuntos de dados pra testar\n",
    "        - Portas lógicas: AND, OR e XOR\n",
    "        - Não obrigatório→ Conjunto das letras\n",
    "        - !!!OBRIGATÓRIO!!!De fato faça o uso durante o vídeo → **Caracteres completo**: 26 letras e algumas fontes → Usar e mostrar conhecimento em cima dele → **É O QUE VALE**\n",
    "    - Qual parte está usando para\n",
    "        - Treinamento\n",
    "        - Validação\n",
    "        - Teste\n",
    "- Apresentação do console ou de um elemento de interface gráfica\n",
    "- Apresentação dos dados de rede neural\n",
    "- Algo de busca por parâmetro\n",
    "    - Teste com uma taxa de aprendizado alta, com um baixa e mostrar o decaimento do erro em um gráfico\n",
    "- Apresentação da matriz de confusão gerada nesse treinamento \n",
    "\n",
    "\n",
    "<aside>\n",
    "💡 Qualquer outra coisa que achar necessário pode colocar\n",
    "\n",
    "</aside>\n",
    "\n",
    "**IMPORTANTE: NÃO ACELERAR NEM DESACELERAR O VÍDEO** \n",
    "\n",
    "Pode rodar o vídeo mais rápido pra mostrar o funcionamento da rede neural, mas NÃO pode acelerar a voz\n",
    "\n",
    "- Não precisa subir o vídeo no e-disciplinas, pode subir no YouTube\n",
    "- PRECISA de um documento de minutagem → minuto x ao y: apresentação; minuto z ao w: explicação da parte do código (só se não subir no e-disciplinas)"
   ]
  },
  {
   "cell_type": "markdown",
   "metadata": {},
   "source": [
    "### Ideia de como organizar o roteiro:"
   ]
  },
  {
   "cell_type": "markdown",
   "metadata": {},
   "source": [
    "#### Parte I\n",
    "Introdução:\n",
    "- Apresentar as bibliotecas que a gente usou (só mostrar rapidamente mesmo enquanto for passando pelo código)\n",
    "- Falar sobre a divisão dos dados e sobre as primeiras funções:\n",
    "    - Funções que lidam com a conversão entre letras e vetores de binários\n",
    "    - Funções para leituras de arquivos\n",
    "    - Funções para a divisão dos dados\n",
    "    - Funcao pra reconstruir imagens a partir do array de array\n",
    "\n"
   ]
  },
  {
   "cell_type": "markdown",
   "metadata": {},
   "source": [
    "### Parte II\n",
    "- Explicar sobre a matriz de confusão \n",
    "- Funções de ativação\n",
    "- Inicialização dos pesos"
   ]
  },
  {
   "cell_type": "markdown",
   "metadata": {},
   "source": [
    "### Parte III\n",
    "- Treinamento da MLP\n",
    "    - Mostrar como a MLP é treinada no código \n",
    "    - Explicar o processo de treinamento (o uso dos dados de trinamento, validação e teste)\n",
    "    - Demonstrar o código treinando a MLP\n",
    "    - Validação cruzada e para antecipada --> ressaltar a importância"
   ]
  },
  {
   "cell_type": "markdown",
   "metadata": {},
   "source": [
    "### Parte IV\n",
    "- Estudo dos parâmetros/ Busca por valores adequados\n",
    "    - Explicar o processo de estudo dos parâmetros (learning rate, número de neurênios, funções de ativação, etc.)\n",
    "    - Mostrar como foi feita a busca por valores adequados (grid search)\n",
    "    - MOstrar resultados e discutir valores mais promissores encontrados"
   ]
  },
  {
   "cell_type": "markdown",
   "metadata": {},
   "source": [
    "### Parte V\n",
    "##### Análise dos gráficos e conclusões\n",
    "- Mostrar os gráficos gerados para análise\n",
    "    - Erro médio, acurácia, desvio padrão...\n",
    "- Analisar performance da rede neural\n",
    "- Explicar as conclusões feitas a partir das análises \n",
    "- Concusão: Resumir os principais pontos pontos para concluir o vídeo"
   ]
  }
 ],
 "metadata": {
  "language_info": {
   "name": "python"
  }
 },
 "nbformat": 4,
 "nbformat_minor": 2
}
