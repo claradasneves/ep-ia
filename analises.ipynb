{
 "cells": [
  {
   "cell_type": "markdown",
   "metadata": {},
   "source": [
    "### Gráficos para análise do desempenho da MLP"
   ]
  },
  {
   "cell_type": "code",
   "execution_count": null,
   "metadata": {},
   "outputs": [],
   "source": [
    "import pandas as pd\n",
    "import matplotlib as plt\n",
    "import seaborn as sns\n"
   ]
  },
  {
   "cell_type": "code",
   "execution_count": null,
   "metadata": {},
   "outputs": [],
   "source": [
    "df = pd.read_csv(\"grid_search_results.csv\")"
   ]
  },
  {
   "cell_type": "code",
   "execution_count": null,
   "metadata": {},
   "outputs": [],
   "source": [
    "import pandas as pd\n",
    "import matplotlib as plt\n",
    "import seaborn as sns\n",
    "\n",
    "def plot_mean_error_vs_learning_rate(results):\n",
    "    learning_rates = results['Taxa de aprendizado']\n",
    "    mean_errors = results['Erro médio']\n",
    "\n",
    "    #Criando o gráfico\n",
    "    plt.figure(figsize=(10,6))\n",
    "    plt.plot(learning_rates, mean_errors, marker='o', linestyle='-')\n",
    "    plt.title('Erro médio em função da Taxa de Aprendizado')\n",
    "    plt.xlabel('Taxa de Aprendizado')\n",
    "    plt.ylabel('Erro Médio')\n",
    "    plt.grid(True)\n",
    "    plt.show()\n",
    "\n",
    "plot_mean_error_vs_learning_rate(df)"
   ]
  },
  {
   "cell_type": "code",
   "execution_count": null,
   "metadata": {},
   "outputs": [],
   "source": [
    "import pandas as pd\n",
    "import matplotlib as plt\n",
    "import seaborn as sns\n",
    "\n",
    "\n",
    "def plot_mean_error_vs_neurons(results):\n",
    "    # Extraindo os dados\n",
    "    neurons = results['Nº de neuronios camada escondida']\n",
    "    mean_errors = results['Erro médio']\n",
    "\n",
    "    # Criando o gráfico\n",
    "    plt.figure(figsize=(10, 6))\n",
    "    plt.plot(neurons, mean_errors, marker='o', linestyle='-')\n",
    "    plt.title('Erro Médio em função do Número de Neurônios na Camada Escondida')\n",
    "    plt.xlabel('Número de Neurônios na Camada Escondida')\n",
    "    plt.ylabel('Erro Médio')\n",
    "    plt.grid(True)\n",
    "    plt.show()\n",
    "\n",
    "# Exemplo de uso:\n",
    "plot_mean_error_vs_neurons(df)"
   ]
  },
  {
   "cell_type": "code",
   "execution_count": null,
   "metadata": {},
   "outputs": [],
   "source": [
    "# Pivotar os dados para criar um heatmap\n",
    "heatmap_data = df.pivot_table(values='Acurácia', \n",
    "                              index=['Função de ativação 1', 'Função de ativação 2'], \n",
    "                              columns='Nº de neuronios camada escondida')\n",
    "\n",
    "plt.figure(figsize=(12, 8))\n",
    "sns.heatmap(heatmap_data, annot=True, fmt=\".2f\", cmap='coolwarm')\n",
    "plt.title('Heatmap dos Hiperparâmetros vs Acurácia')\n",
    "plt.xlabel('Nº de neuronios camada escondida')\n",
    "plt.ylabel('Função de ativação 1 e 2')\n",
    "plt.show()\n"
   ]
  },
  {
   "cell_type": "code",
   "execution_count": null,
   "metadata": {},
   "outputs": [],
   "source": [
    "# Calcular os erros\n",
    "errors = df['Erro médio']\n",
    "\n",
    "# Plotar o histograma dos erros\n",
    "plt.figure(figsize=(10, 6))\n",
    "plt.hist(errors, bins=30, edgecolor='k', alpha=0.7)\n",
    "plt.title('Histograma dos Erros Médios')\n",
    "plt.xlabel('Erro Médio')\n",
    "plt.ylabel('Frequência')\n",
    "plt.show()\n"
   ]
  },
  {
   "cell_type": "code",
   "execution_count": null,
   "metadata": {},
   "outputs": [],
   "source": [
    "# Plotar boxplot dos erros\n",
    "plt.figure(figsize=(10, 6))\n",
    "sns.boxplot(x='Função de ativação 1', y='Erro médio', data=df)\n",
    "plt.title('Boxplot dos Erros Médios por Função de Ativação 1')\n",
    "plt.xlabel('Função de Ativação 1')\n",
    "plt.ylabel('Erro Médio')\n",
    "plt.show()\n"
   ]
  }
 ],
 "metadata": {
  "kernelspec": {
   "display_name": "Python 3",
   "language": "python",
   "name": "python3"
  },
  "language_info": {
   "codemirror_mode": {
    "name": "ipython",
    "version": 3
   },
   "file_extension": ".py",
   "mimetype": "text/x-python",
   "name": "python",
   "nbconvert_exporter": "python",
   "pygments_lexer": "ipython3",
   "version": "3.12.2"
  }
 },
 "nbformat": 4,
 "nbformat_minor": 2
}
